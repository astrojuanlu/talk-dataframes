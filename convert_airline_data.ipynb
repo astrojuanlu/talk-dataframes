{
 "cells": [
  {
   "cell_type": "code",
   "execution_count": 1,
   "metadata": {
    "execution": {
     "iopub.execute_input": "2022-05-26T07:18:21.037439Z",
     "iopub.status.busy": "2022-05-26T07:18:21.037177Z",
     "iopub.status.idle": "2022-05-26T07:18:21.142574Z",
     "shell.execute_reply": "2022-05-26T07:18:21.141988Z"
    },
    "tags": []
   },
   "outputs": [],
   "source": [
    "import os\n",
    "\n",
    "import pyarrow as pa\n",
    "from pyarrow.csv import open_csv\n",
    "import pyarrow.parquet as pq"
   ]
  },
  {
   "cell_type": "code",
   "execution_count": 2,
   "metadata": {
    "execution": {
     "iopub.execute_input": "2022-05-26T07:18:21.154061Z",
     "iopub.status.busy": "2022-05-26T07:18:21.153504Z",
     "iopub.status.idle": "2022-05-26T07:18:21.848598Z",
     "shell.execute_reply": "2022-05-26T07:18:21.847627Z"
    },
    "tags": []
   },
   "outputs": [
    {
     "name": "stdout",
     "output_type": "stream",
     "text": [
      "2009.csv      2011.parquet  2014.csv\t  2016.parquet\tarchive.zip\r\n",
      "2009.parquet  2012.csv\t    2014.parquet  2017.csv\r\n",
      "2010.csv      2012.parquet  2015.csv\t  2017.parquet\r\n",
      "2010.parquet  2013.csv\t    2015.parquet  2018.csv\r\n",
      "2011.csv      2013.parquet  2016.csv\t  2018.parquet\r\n"
     ]
    }
   ],
   "source": [
    "!ls /data/airline-delays/"
   ]
  },
  {
   "cell_type": "code",
   "execution_count": 3,
   "metadata": {
    "execution": {
     "iopub.execute_input": "2022-05-26T07:18:21.859463Z",
     "iopub.status.busy": "2022-05-26T07:18:21.859214Z",
     "iopub.status.idle": "2022-05-26T07:18:21.879365Z",
     "shell.execute_reply": "2022-05-26T07:18:21.878494Z"
    }
   },
   "outputs": [
    {
     "data": {
      "text/plain": [
       "['/data/airline-delays/2009.csv',\n",
       " '/data/airline-delays/2010.csv',\n",
       " '/data/airline-delays/2011.csv',\n",
       " '/data/airline-delays/2012.csv',\n",
       " '/data/airline-delays/2013.csv',\n",
       " '/data/airline-delays/2014.csv',\n",
       " '/data/airline-delays/2015.csv',\n",
       " '/data/airline-delays/2016.csv',\n",
       " '/data/airline-delays/2017.csv',\n",
       " '/data/airline-delays/2018.csv']"
      ]
     },
     "execution_count": 3,
     "metadata": {},
     "output_type": "execute_result"
    }
   ],
   "source": [
    "csv_files = !ls /data/airline-delays/*.csv\n",
    "csv_files"
   ]
  },
  {
   "cell_type": "code",
   "execution_count": 4,
   "metadata": {
    "execution": {
     "iopub.execute_input": "2022-05-26T07:18:21.889808Z",
     "iopub.status.busy": "2022-05-26T07:18:21.889287Z",
     "iopub.status.idle": "2022-05-26T07:18:22.012689Z",
     "shell.execute_reply": "2022-05-26T07:18:22.011808Z"
    },
    "tags": []
   },
   "outputs": [
    {
     "name": "stdout",
     "output_type": "stream",
     "text": [
      "Reading /data/airline-delays/2009.csv...\n",
      "Reading /data/airline-delays/2010.csv...\n",
      "Reading /data/airline-delays/2011.csv...\n",
      "Reading /data/airline-delays/2012.csv...\n",
      "Reading /data/airline-delays/2013.csv...\n"
     ]
    },
    {
     "name": "stdout",
     "output_type": "stream",
     "text": [
      "Reading /data/airline-delays/2014.csv...\n",
      "Reading /data/airline-delays/2015.csv...\n",
      "Reading /data/airline-delays/2016.csv...\n",
      "Reading /data/airline-delays/2017.csv...\n",
      "Reading /data/airline-delays/2018.csv...\n"
     ]
    }
   ],
   "source": [
    "for filename in csv_files:\n",
    "    print(f\"Reading {filename}...\")\n",
    "    mmap = pa.memory_map(filename)\n",
    "\n",
    "    reader = open_csv(mmap)\n",
    "\n",
    "    destination_file = os.path.splitext(filename)[0] + \".parquet\"\n",
    "    if os.path.isfile(destination_file):\n",
    "        continue\n",
    "\n",
    "    with pq.ParquetWriter(destination_file, reader.schema) as writer:\n",
    "        while True:\n",
    "            try:\n",
    "                batch = reader.read_next_batch()\n",
    "                writer.write_batch(batch)\n",
    "            except StopIteration:\n",
    "                break"
   ]
  }
 ],
 "metadata": {
  "kernelspec": {
   "display_name": "Python 3",
   "language": "python",
   "name": "orchest-kernel-fa87a1fd-af2e-44a9-9ea2-3da408cc4b3a"
  },
  "language_info": {
   "codemirror_mode": {
    "name": "ipython",
    "version": 3
   },
   "file_extension": ".py",
   "mimetype": "text/x-python",
   "name": "python",
   "nbconvert_exporter": "python",
   "pygments_lexer": "ipython3",
   "version": "3.9.10"
  }
 },
 "nbformat": 4,
 "nbformat_minor": 4
}
